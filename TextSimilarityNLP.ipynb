{
 "metadata": {
  "language_info": {
   "codemirror_mode": {
    "name": "ipython",
    "version": 3
   },
   "file_extension": ".py",
   "mimetype": "text/x-python",
   "name": "python",
   "nbconvert_exporter": "python",
   "pygments_lexer": "ipython3",
   "version": "3.7.9-final"
  },
  "orig_nbformat": 2,
  "kernelspec": {
   "name": "python3",
   "display_name": "Python 3.7.9 64-bit",
   "metadata": {
    "interpreter": {
     "hash": "e774977668b7c0ae8309835a5187aa7fbf7669e7d0bb59755bc63e573643edcd"
    }
   }
  }
 },
 "nbformat": 4,
 "nbformat_minor": 2,
 "cells": [
  {
   "cell_type": "code",
   "execution_count": 6,
   "metadata": {},
   "outputs": [],
   "source": [
    "import spacy"
   ]
  },
  {
   "cell_type": "code",
   "execution_count": 7,
   "metadata": {},
   "outputs": [],
   "source": [
    "nlp = spacy.load(\"en_core_web_lg\")"
   ]
  },
  {
   "cell_type": "code",
   "execution_count": 12,
   "metadata": {},
   "outputs": [],
   "source": [
    "word1 = \"red\"\n",
    "word2 = \"walking\"\n",
    "word3 = \"color\"\n",
    "word4 = \"yellow\"\n",
    "word5 = \"blue\"\n",
    "\n",
    "word1_nlp = nlp.vocab[word1]\n",
    "word2_nlp = nlp.vocab[word2]\n",
    "word3_nlp = nlp.vocab[word3]\n",
    "word4_nlp = nlp.vocab[word4]\n",
    "word5_nlp = nlp.vocab[word5]"
   ]
  },
  {
   "cell_type": "code",
   "execution_count": 13,
   "metadata": {},
   "outputs": [
    {
     "output_type": "stream",
     "name": "stdout",
     "text": [
      "Similiarity of word \"red\" with word \"red\": 1.0\nSimiliarity of word \"red\" with word \"walking\": 0.2937091290950775\nSimiliarity of word \"red\" with word \"color\": 0.5966089367866516\nSimiliarity of word \"red\" with word \"yellow\": 0.8315851092338562\nSimiliarity of word \"red\" with word \"blue\": 0.8438411951065063\n"
     ]
    }
   ],
   "source": [
    "# Similiarity is higher the more the words matches and the context is the same (here is related to color)\n",
    "print(\"Similiarity of word \\\"{}\\\" with word \\\"{}\\\": {}\".format(word1, word1, word1_nlp.similarity(word1_nlp)))\n",
    "print(\"Similiarity of word \\\"{}\\\" with word \\\"{}\\\": {}\".format(word1, word2, word1_nlp.similarity(word2_nlp)))\n",
    "print(\"Similiarity of word \\\"{}\\\" with word \\\"{}\\\": {}\".format(word1, word3, word1_nlp.similarity(word3_nlp)))\n",
    "print(\"Similiarity of word \\\"{}\\\" with word \\\"{}\\\": {}\".format(word1, word4, word1_nlp.similarity(word4_nlp)))\n",
    "print(\"Similiarity of word \\\"{}\\\" with word \\\"{}\\\": {}\".format(word1, word5, word1_nlp.similarity(word5_nlp)))"
   ]
  },
  {
   "cell_type": "code",
   "execution_count": 14,
   "metadata": {},
   "outputs": [],
   "source": [
    "word1 = \"weather\"\n",
    "word2 = \"whether\"\n",
    "word3 = \"sunny\"\n",
    "word4 = \"rainy\"\n",
    "word5 = \"blue\"\n",
    "\n",
    "word1_nlp = nlp.vocab[word1]\n",
    "word2_nlp = nlp.vocab[word2]\n",
    "word3_nlp = nlp.vocab[word3]\n",
    "word4_nlp = nlp.vocab[word4]\n",
    "word5_nlp = nlp.vocab[word5]"
   ]
  },
  {
   "cell_type": "code",
   "execution_count": 16,
   "metadata": {},
   "outputs": [
    {
     "output_type": "stream",
     "name": "stdout",
     "text": [
      "Similiarity of word \"weather\" with word \"whether\": 0.2583989202976227\nSimiliarity of word \"weather\" with word \"sunny\": 0.5827648043632507\nSimiliarity of word \"weather\" with word \"rainy\": 0.6707081198692322\nSimiliarity of word \"sunny\" with word \"rainy\": 0.7039623260498047\n"
     ]
    }
   ],
   "source": [
    "print(\"Similiarity of word \\\"{}\\\" with word \\\"{}\\\": {}\".format(word1, word2, word1_nlp.similarity(word2_nlp)))  # the pronounce is similar, but the words mean different things, so the score is low\n",
    "print(\"Similiarity of word \\\"{}\\\" with word \\\"{}\\\": {}\".format(word1, word3, word1_nlp.similarity(word3_nlp)))\n",
    "print(\"Similiarity of word \\\"{}\\\" with word \\\"{}\\\": {}\".format(word1, word4, word1_nlp.similarity(word4_nlp)))\n",
    "print(\"Similiarity of word \\\"{}\\\" with word \\\"{}\\\": {}\".format(word3, word4, word3_nlp.similarity(word4_nlp)))"
   ]
  },
  {
   "cell_type": "code",
   "execution_count": 20,
   "metadata": {},
   "outputs": [],
   "source": [
    "phrase1 = \"I believe in the God of the Bible\"\n",
    "phrase2 = \"I trust in a higher power of Christianity\"\n",
    "phrase3 = \"This weekend John will drink a beer\"\n",
    "\n",
    "phrase1_nlp = nlp(phrase1)\n",
    "phrase2_nlp = nlp(phrase2)\n",
    "phrase3_nlp = nlp(phrase3)"
   ]
  },
  {
   "cell_type": "code",
   "execution_count": 22,
   "metadata": {},
   "outputs": [
    {
     "output_type": "stream",
     "name": "stdout",
     "text": [
      "Similiarity of \"I believe in the God of the Bible\" with \"I trust in a higher power of Christianity\": 0.8841817979496814\nSimiliarity of \"I believe in the God of the Bible\" with \"This weekend John will drink a beer\": 0.7182935290755542\nSimiliarity of \"I trust in a higher power of Christianity\" with \"This weekend John will drink a beer\": 0.6840233387637993\n"
     ]
    }
   ],
   "source": [
    "print(\"Similiarity of \\\"{}\\\" with \\\"{}\\\": {}\".format(phrase1, phrase2, phrase1_nlp.similarity(phrase2_nlp)))\n",
    "print(\"Similiarity of \\\"{}\\\" with \\\"{}\\\": {}\".format(phrase1, phrase3, phrase1_nlp.similarity(phrase3_nlp)))\n",
    "print(\"Similiarity of \\\"{}\\\" with \\\"{}\\\": {}\".format(phrase2, phrase3, phrase2_nlp.similarity(phrase3_nlp)))"
   ]
  },
  {
   "cell_type": "code",
   "execution_count": 23,
   "metadata": {},
   "outputs": [],
   "source": [
    "phrase1 = \"I don't know whether I want you.\"\n",
    "phrase2 = \"This is not the weather for it. I warned you.\"\n",
    "phrase3 = \"Today is an awful rainy day and I told you so.\"\n",
    "\n",
    "phrase1_nlp = nlp(phrase1)\n",
    "phrase2_nlp = nlp(phrase2)\n",
    "phrase3_nlp = nlp(phrase3)"
   ]
  },
  {
   "cell_type": "code",
   "execution_count": 25,
   "metadata": {},
   "outputs": [
    {
     "output_type": "stream",
     "name": "stdout",
     "text": [
      "Similiarity of \"I don't know whether I want you.\" with \"This is not the weather for it. I warned you.\": 0.8685836066705181\nSimiliarity of \"I don't know whether I want you.\" with \"Today is an awful rainy day and I told you so.\": 0.8536066724575484\nSimiliarity of \"This is not the weather for it. I warned you.\" with \"Today is an awful rainy day and I told you so.\": 0.945230279626174\n"
     ]
    }
   ],
   "source": [
    "print(\"Similiarity of \\\"{}\\\" with \\\"{}\\\": {}\".format(phrase1, phrase2, phrase1_nlp.similarity(phrase2_nlp)))\n",
    "print(\"Similiarity of \\\"{}\\\" with \\\"{}\\\": {}\".format(phrase1, phrase3, phrase1_nlp.similarity(phrase3_nlp)))\n",
    "print(\"Similiarity of \\\"{}\\\" with \\\"{}\\\": {}\".format(phrase2, phrase3, phrase2_nlp.similarity(phrase3_nlp)))"
   ]
  },
  {
   "cell_type": "code",
   "execution_count": 26,
   "metadata": {},
   "outputs": [],
   "source": [
    "phrase1 = \"I play football in this awful arena.\"\n",
    "phrase2 = \"I play the piano in this red room.\"\n",
    "phrase3 = \"I repair the piano in this ugly room.\"\n",
    "\n",
    "phrase1_nlp = nlp(phrase1)\n",
    "phrase2_nlp = nlp(phrase2)\n",
    "phrase3_nlp = nlp(phrase3)"
   ]
  },
  {
   "cell_type": "code",
   "execution_count": 27,
   "metadata": {},
   "outputs": [
    {
     "output_type": "stream",
     "name": "stdout",
     "text": [
      "Similiarity of \"I play football in this awful arena.\" with \"I play the piano in this red room.\": 0.8747157597694079\nSimiliarity of \"I play football in this awful arena.\" with \"I repair the piano in this ugly room.\": 0.8367846619133112\nSimiliarity of \"I play the piano in this red room.\" with \"I repair the piano in this ugly room.\": 0.9400330784342488\n"
     ]
    }
   ],
   "source": [
    "print(\"Similiarity of \\\"{}\\\" with \\\"{}\\\": {}\".format(phrase1, phrase2, phrase1_nlp.similarity(phrase2_nlp)))\n",
    "print(\"Similiarity of \\\"{}\\\" with \\\"{}\\\": {}\".format(phrase1, phrase3, phrase1_nlp.similarity(phrase3_nlp)))\n",
    "print(\"Similiarity of \\\"{}\\\" with \\\"{}\\\": {}\".format(phrase2, phrase3, phrase2_nlp.similarity(phrase3_nlp)))"
   ]
  },
  {
   "cell_type": "code",
   "execution_count": 37,
   "metadata": {},
   "outputs": [],
   "source": [
    "phrase1_verbs = \" \".join([\"\\\"\" + token.lemma_ + \"\\\"\" for token in phrase1_nlp if token.pos_ == \"VERB\"])\n",
    "phrase1_adjs = \" \".join([\"\\\"\" + token.lemma_ + \"\\\"\" for token in phrase1_nlp if token.pos_ == \"ADJ\"])\n",
    "phrase1_nouns = \" \".join([\"\\\"\" + token.lemma_ + \"\\\"\" for token in phrase1_nlp if token.pos_ == \"NOUN\"])\n",
    "\n",
    "phrase2_verbs = \" \".join([\"\\\"\" + token.lemma_ + \"\\\"\" for token in phrase2_nlp if token.pos_ == \"VERB\"])\n",
    "phrase2_adjs = \" \".join([\"\\\"\" + token.lemma_ + \"\\\"\" for token in phrase2_nlp if token.pos_ == \"ADJ\"])\n",
    "phrase2_nouns = \" \".join([\"\\\"\" + token.lemma_ + \"\\\"\" for token in phrase2_nlp if token.pos_ == \"NOUN\"])\n",
    "\n",
    "phrase3_verbs = \" \".join([\"\\\"\" + token.lemma_ + \"\\\"\" for token in phrase3_nlp if token.pos_ == \"VERB\"])\n",
    "phrase3_adjs = \" \".join([\"\\\"\" + token.lemma_ + \"\\\"\" for token in phrase3_nlp if token.pos_ == \"ADJ\"])\n",
    "phrase3_nouns = \" \".join([\"\\\"\" + token.lemma_ + \"\\\"\" for token in phrase3_nlp if token.pos_ == \"NOUN\"])"
   ]
  },
  {
   "cell_type": "code",
   "execution_count": 39,
   "metadata": {},
   "outputs": [
    {
     "output_type": "stream",
     "name": "stdout",
     "text": [
      "Verbs of \"I play football in this awful arena.\": \"play\"\nAdjectives of \"I play football in this awful arena.\": \"awful\"\nNouns of \"I play football in this awful arena.\": \"football\" \"arena\"\n\nVerbs of \"I play the piano in this red room.\": \"play\"\nAdjectives of \"I play the piano in this red room.\": \"red\"\nNouns of \"I play the piano in this red room.\": \"piano\" \"room\"\n\nVerbs of \"I repair the piano in this ugly room.\": \"repair\"\nAdjectives of \"I repair the piano in this ugly room.\": \"ugly\"\nNouns of \"I repair the piano in this ugly room.\": \"piano\" \"room\"\n"
     ]
    }
   ],
   "source": [
    "print(\"Verbs of \\\"{}\\\": {}\".format(phrase1, phrase1_verbs))\n",
    "print(\"Adjectives of \\\"{}\\\": {}\".format(phrase1, phrase1_adjs))\n",
    "print(\"Nouns of \\\"{}\\\": {}\\n\".format(phrase1, phrase1_nouns))\n",
    "\n",
    "print(\"Verbs of \\\"{}\\\": {}\".format(phrase2, phrase2_verbs))\n",
    "print(\"Adjectives of \\\"{}\\\": {}\".format(phrase2, phrase2_adjs))\n",
    "print(\"Nouns of \\\"{}\\\": {}\\n\".format(phrase2, phrase2_nouns))\n",
    "\n",
    "print(\"Verbs of \\\"{}\\\": {}\".format(phrase3, phrase3_verbs))\n",
    "print(\"Adjectives of \\\"{}\\\": {}\".format(phrase3, phrase3_adjs))\n",
    "print(\"Nouns of \\\"{}\\\": {}\".format(phrase3, phrase3_nouns))"
   ]
  },
  {
   "cell_type": "code",
   "execution_count": 44,
   "metadata": {},
   "outputs": [
    {
     "output_type": "stream",
     "name": "stdout",
     "text": [
      "Similiarity of the verbs of \"I play football in this awful arena.\" with \"I play the piano in this red room.\": 1.0\nSimiliarity of the verbs of \"I play football in this awful arena.\" with \"I repair the piano in this ugly room.\": 0.7742479512812757\nSimiliarity of the verbs of \"I play the piano in this red room.\" with \"I repair the piano in this ugly room.\": 0.7742479512812757\n\nSimiliarity of the adjectives of \"\"awful\"\" with \"\"red\"\": 0.853889999273049\nSimiliarity of the adjectives of \"\"awful\"\" with \"\"ugly\"\": 0.9426610600691683\nSimiliarity of the adjectives of \"\"red\"\" with \"\"ugly\"\": 0.8715377958847704\n\nSimiliarity of the nouns of \"\"football\" \"arena\"\" with \"\"piano\" \"room\"\": 0.8649998809173391\nSimiliarity of the nouns of \"\"football\" \"arena\"\" with \"\"piano\" \"room\"\": 0.8649998809173391\nSimiliarity of the nouns of \"\"piano\" \"room\"\" with \"\"piano\" \"room\"\": 1.0\n"
     ]
    }
   ],
   "source": [
    "print(\"Similiarity of the verbs of \\\"{}\\\" with \\\"{}\\\": {}\".format(phrase1, phrase2, nlp(phrase1_verbs).similarity(nlp(phrase2_verbs))))\n",
    "print(\"Similiarity of the verbs of \\\"{}\\\" with \\\"{}\\\": {}\".format(phrase1, phrase3, nlp(phrase1_verbs).similarity(nlp(phrase3_verbs))))\n",
    "print(\"Similiarity of the verbs of \\\"{}\\\" with \\\"{}\\\": {}\\n\".format(phrase2, phrase3, nlp(phrase2_verbs).similarity(nlp(phrase3_verbs))))\n",
    "\n",
    "print(\"Similiarity of the adjectives of \\\"{}\\\" with \\\"{}\\\": {}\".format(phrase1, phrase2, nlp(phrase1_adjs).similarity(nlp(phrase2_adjs))))\n",
    "print(\"Similiarity of the adjectives of \\\"{}\\\" with \\\"{}\\\": {}\".format(phrase1, phrase3, nlp(phrase1_adjs).similarity(nlp(phrase3_adjs))))\n",
    "print(\"Similiarity of the adjectives of \\\"{}\\\" with \\\"{}\\\": {}\\n\".format(phrase2, phrase3, nlp(phrase2_adjs).similarity(nlp(phrase3_adjs))))\n",
    "\n",
    "print(\"Similiarity of the nouns of \\\"{}\\\" with \\\"{}\\\": {}\".format(phrase1, phrase2, nlp(phrase1_nouns).similarity(nlp(phrase2_nouns))))\n",
    "print(\"Similiarity of the nouns of \\\"{}\\\" with \\\"{}\\\": {}\".format(phrase1, phrase3, nlp(phrase1_nouns).similarity(nlp(phrase3_nouns))))\n",
    "print(\"Similiarity of the nouns of \\\"{}\\\" with \\\"{}\\\": {}\".format(phrase2, phrase3, nlp(phrase2_nouns).similarity(nlp(phrase3_nouns))))"
   ]
  },
  {
   "cell_type": "code",
   "execution_count": null,
   "metadata": {},
   "outputs": [],
   "source": []
  }
 ]
}