{
 "metadata": {
  "language_info": {
   "codemirror_mode": {
    "name": "ipython",
    "version": 3
   },
   "file_extension": ".py",
   "mimetype": "text/x-python",
   "name": "python",
   "nbconvert_exporter": "python",
   "pygments_lexer": "ipython3",
   "version": "3.7.9-final"
  },
  "orig_nbformat": 2,
  "kernelspec": {
   "name": "python3",
   "display_name": "Python 3.7.9 64-bit",
   "metadata": {
    "interpreter": {
     "hash": "e774977668b7c0ae8309835a5187aa7fbf7669e7d0bb59755bc63e573643edcd"
    }
   }
  }
 },
 "nbformat": 4,
 "nbformat_minor": 2,
 "cells": [
  {
   "cell_type": "code",
   "execution_count": 6,
   "metadata": {},
   "outputs": [],
   "source": [
    "import spacy"
   ]
  },
  {
   "cell_type": "code",
   "execution_count": 7,
   "metadata": {},
   "outputs": [],
   "source": [
    "nlp = spacy.load(\"en_core_web_lg\")"
   ]
  },
  {
   "cell_type": "code",
   "execution_count": 8,
   "metadata": {},
   "outputs": [],
   "source": [
    "word1 = \"red\"\n",
    "word2 = \"walking\"\n",
    "word3 = \"color\"\n",
    "word4 = \"yellow\"\n",
    "word5 = \"blue\"\n",
    "\n",
    "word1_nlp = nlp.vocab[word1]\n",
    "word2_nlp = nlp.vocab[word2]\n",
    "word3_nlp = nlp.vocab[word3]\n",
    "word4_nlp = nlp.vocab[word4]\n",
    "word5_nlp = nlp.vocab[word5]"
   ]
  },
  {
   "cell_type": "code",
   "execution_count": 11,
   "metadata": {},
   "outputs": [
    {
     "output_type": "stream",
     "name": "stdout",
     "text": [
      "Similiarity of word \"%s\" with word \"<spacy.lexeme.Lexeme object at 0x7f8dc698e690>\": <spacy.lexeme.Lexeme object at 0x7f8dc698e690>\nSimiliarity of word \"{}\" with word \"{}\": {} <spacy.lexeme.Lexeme object at 0x7f8dc698e690> <spacy.lexeme.Lexeme object at 0x7f8dc6a02b90> 0.2937091290950775\nSimiliarity of word \"{}\" with word \"{}\": {} <spacy.lexeme.Lexeme object at 0x7f8dc698e690> <spacy.lexeme.Lexeme object at 0x7f8da1b13690> 0.5966089367866516\nSimiliarity of word \"{}\" with word \"{}\": {} <spacy.lexeme.Lexeme object at 0x7f8dc698e690> <spacy.lexeme.Lexeme object at 0x7f8da142b4b0> 0.8315851092338562\nSimiliarity of word \"{}\" with word \"{}\": {} <spacy.lexeme.Lexeme object at 0x7f8dc698e690> <spacy.lexeme.Lexeme object at 0x7f8da1965cd0> 0.8438411951065063\n"
     ]
    }
   ],
   "source": [
    "print(\"Similiarity of word \\\"{}\\\" with word \\\"{}\\\": {}\".format(word1, word1, word1_nlp.similarity(word1_nlp)))\n",
    "print(\"Similiarity of word \\\"{}\\\" with word \\\"{}\\\": {}\".format(word1, word2, word1_nlp.similarity(word2_nlp)))\n",
    "print(\"Similiarity of word \\\"{}\\\" with word \\\"{}\\\": {}\".format(word1, word3, word1_nlp.similarity(word3_nlp)))\n",
    "print(\"Similiarity of word \\\"{}\\\" with word \\\"{}\\\": {}\".format(word1, word4, word1_nlp.similarity(word4_nlp)))\n",
    "print(\"Similiarity of word \\\"{}\\\" with word \\\"{}\\\": {}\".format(word1, word5, word1_nlp.similarity(word5_nlp)))"
   ]
  },
  {
   "cell_type": "code",
   "execution_count": null,
   "metadata": {},
   "outputs": [],
   "source": [
    "word1 = \"weather\"\n",
    "word2 = \"whether\"\n",
    "word3 = \"color\"\n",
    "word4 = \"yellow\"\n",
    "word5 = \"blue\"\n",
    "\n",
    "word1 = nlp.vocab[word1]\n",
    "word2 = nlp.vocab[word2]\n",
    "word3 = nlp.vocab[word3]\n",
    "word4 = nlp.vocab[word4]\n",
    "word5 = nlp.vocab[word5]"
   ]
  }
 ]
}