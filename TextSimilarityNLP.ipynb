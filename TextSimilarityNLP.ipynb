{
 "metadata": {
  "language_info": {
   "codemirror_mode": {
    "name": "ipython",
    "version": 3
   },
   "file_extension": ".py",
   "mimetype": "text/x-python",
   "name": "python",
   "nbconvert_exporter": "python",
   "pygments_lexer": "ipython3",
   "version": "3.7.9-final"
  },
  "orig_nbformat": 2,
  "kernelspec": {
   "name": "python3",
   "display_name": "Python 3.7.9 64-bit",
   "metadata": {
    "interpreter": {
     "hash": "e774977668b7c0ae8309835a5187aa7fbf7669e7d0bb59755bc63e573643edcd"
    }
   }
  }
 },
 "nbformat": 4,
 "nbformat_minor": 2,
 "cells": [
  {
   "cell_type": "code",
   "execution_count": 6,
   "metadata": {},
   "outputs": [],
   "source": [
    "import spacy"
   ]
  },
  {
   "cell_type": "code",
   "execution_count": 7,
   "metadata": {},
   "outputs": [],
   "source": [
    "nlp = spacy.load(\"en_core_web_lg\")"
   ]
  },
  {
   "cell_type": "code",
   "execution_count": 12,
   "metadata": {},
   "outputs": [],
   "source": [
    "word1 = \"red\"\n",
    "word2 = \"walking\"\n",
    "word3 = \"color\"\n",
    "word4 = \"yellow\"\n",
    "word5 = \"blue\"\n",
    "\n",
    "word1_nlp = nlp.vocab[word1]\n",
    "word2_nlp = nlp.vocab[word2]\n",
    "word3_nlp = nlp.vocab[word3]\n",
    "word4_nlp = nlp.vocab[word4]\n",
    "word5_nlp = nlp.vocab[word5]"
   ]
  },
  {
   "cell_type": "code",
   "execution_count": 13,
   "metadata": {},
   "outputs": [
    {
     "output_type": "stream",
     "name": "stdout",
     "text": [
      "Similiarity of word \"red\" with word \"red\": 1.0\nSimiliarity of word \"red\" with word \"walking\": 0.2937091290950775\nSimiliarity of word \"red\" with word \"color\": 0.5966089367866516\nSimiliarity of word \"red\" with word \"yellow\": 0.8315851092338562\nSimiliarity of word \"red\" with word \"blue\": 0.8438411951065063\n"
     ]
    }
   ],
   "source": [
    "# Similiarity is higher the more the words matches and the context is the same (here is related to color)\n",
    "print(\"Similiarity of word \\\"{}\\\" with word \\\"{}\\\": {}\".format(word1, word1, word1_nlp.similarity(word1_nlp)))\n",
    "print(\"Similiarity of word \\\"{}\\\" with word \\\"{}\\\": {}\".format(word1, word2, word1_nlp.similarity(word2_nlp)))\n",
    "print(\"Similiarity of word \\\"{}\\\" with word \\\"{}\\\": {}\".format(word1, word3, word1_nlp.similarity(word3_nlp)))\n",
    "print(\"Similiarity of word \\\"{}\\\" with word \\\"{}\\\": {}\".format(word1, word4, word1_nlp.similarity(word4_nlp)))\n",
    "print(\"Similiarity of word \\\"{}\\\" with word \\\"{}\\\": {}\".format(word1, word5, word1_nlp.similarity(word5_nlp)))"
   ]
  },
  {
   "cell_type": "code",
   "execution_count": 14,
   "metadata": {},
   "outputs": [],
   "source": [
    "word1 = \"weather\"\n",
    "word2 = \"whether\"\n",
    "word3 = \"sunny\"\n",
    "word4 = \"rainy\"\n",
    "word5 = \"blue\"\n",
    "\n",
    "word1_nlp = nlp.vocab[word1]\n",
    "word2_nlp = nlp.vocab[word2]\n",
    "word3_nlp = nlp.vocab[word3]\n",
    "word4_nlp = nlp.vocab[word4]\n",
    "word5_nlp = nlp.vocab[word5]"
   ]
  },
  {
   "cell_type": "code",
   "execution_count": 16,
   "metadata": {},
   "outputs": [
    {
     "output_type": "stream",
     "name": "stdout",
     "text": [
      "Similiarity of word \"weather\" with word \"whether\": 0.2583989202976227\nSimiliarity of word \"weather\" with word \"sunny\": 0.5827648043632507\nSimiliarity of word \"weather\" with word \"rainy\": 0.6707081198692322\nSimiliarity of word \"sunny\" with word \"rainy\": 0.7039623260498047\n"
     ]
    }
   ],
   "source": [
    "print(\"Similiarity of word \\\"{}\\\" with word \\\"{}\\\": {}\".format(word1, word2, word1_nlp.similarity(word2_nlp)))  # the pronounce is similar, but the words mean different things, so the score is low\n",
    "print(\"Similiarity of word \\\"{}\\\" with word \\\"{}\\\": {}\".format(word1, word3, word1_nlp.similarity(word3_nlp)))\n",
    "print(\"Similiarity of word \\\"{}\\\" with word \\\"{}\\\": {}\".format(word1, word4, word1_nlp.similarity(word4_nlp)))\n",
    "print(\"Similiarity of word \\\"{}\\\" with word \\\"{}\\\": {}\".format(word3, word4, word3_nlp.similarity(word4_nlp)))"
   ]
  },
  {
   "cell_type": "code",
   "execution_count": null,
   "metadata": {},
   "outputs": [],
   "source": []
  }
 ]
}